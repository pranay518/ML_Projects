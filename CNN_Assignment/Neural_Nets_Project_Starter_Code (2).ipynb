{
 "cells": [
  {
   "cell_type": "markdown",
   "metadata": {},
   "source": [
    "# Gesture Recognition\n",
    "In this group project, you are going to build a 3D Conv model that will be able to predict the 5 gestures correctly. Please import the following libraries to get started."
   ]
  },
  {
   "cell_type": "code",
   "execution_count": 1,
   "metadata": {},
   "outputs": [],
   "source": [
    "import numpy as np\n",
    "import os\n",
    "from scipy.misc import imread, imresize\n",
    "from skimage import transform\n",
    "import datetime\n",
    "import os\n",
    "import warnings\n",
    "warnings.filterwarnings(\"ignore\")"
   ]
  },
  {
   "cell_type": "markdown",
   "metadata": {},
   "source": [
    "We set the random seed so that the results don't vary drastically."
   ]
  },
  {
   "cell_type": "code",
   "execution_count": 2,
   "metadata": {},
   "outputs": [
    {
     "name": "stderr",
     "output_type": "stream",
     "text": [
      "Using TensorFlow backend.\n"
     ]
    }
   ],
   "source": [
    "np.random.seed(30)\n",
    "import random as rn\n",
    "rn.seed(30)\n",
    "from keras import backend as K\n",
    "import tensorflow as tf\n",
    "tf.set_random_seed(30)"
   ]
  },
  {
   "cell_type": "markdown",
   "metadata": {},
   "source": [
    "In this block, you read the folder names for training and validation. You also set the `batch_size` here. Note that you set the batch size in such a way that you are able to use the GPU in full capacity. You keep increasing the batch size until the machine throws an error."
   ]
  },
  {
   "cell_type": "code",
   "execution_count": 3,
   "metadata": {},
   "outputs": [],
   "source": [
    "train_doc = np.random.permutation(open('./Project_data/train.csv').readlines())\n",
    "val_doc = np.random.permutation(open('./Project_data/val.csv').readlines())\n"
   ]
  },
  {
   "cell_type": "code",
   "execution_count": 4,
   "metadata": {},
   "outputs": [],
   "source": [
    "img_width = 100\n",
    "img_height = 100\n",
    "zoom = 0.8\n",
    "batch_size = 20\n",
    "num_classes = 5\n",
    "num_epochs = 20\n",
    "img_indices = [x for x in range(30)]\n",
    "inputShape = (len(img_indices), img_width, img_height, 3)"
   ]
  },
  {
   "cell_type": "markdown",
   "metadata": {},
   "source": [
    "### Transform image"
   ]
  },
  {
   "cell_type": "code",
   "execution_count": 5,
   "metadata": {},
   "outputs": [],
   "source": [
    "def cropimread(img_pre ,xcrop, ycrop):\n",
    "    ysize, xsize, chan = img_pre.shape\n",
    "    xoff = (xsize - xcrop) // 2\n",
    "    yoff = (ysize - ycrop) // 2\n",
    "    img= img_pre[yoff:-yoff,xoff:-xoff]\n",
    "    return img\n",
    "\n",
    "def transform_img(img, x, y):\n",
    "    # Crop imgs\n",
    "    #img = cropimread(img, x, y)\n",
    "    \n",
    "    # Resize\n",
    "    img = transform.resize(img, (x, y))\n",
    "    \n",
    "    # Normalize\n",
    "    img = img / 255\n",
    "    \n",
    "    return img"
   ]
  },
  {
   "cell_type": "markdown",
   "metadata": {},
   "source": [
    "## Generator\n",
    "This is one of the most important part of the code. The overall structure of the generator has been given. In the generator, you are going to preprocess the images as you have images of 2 different dimensions as well as create a batch of video frames. You have to experiment with `img_idx`, `y`,`z` and normalization such that you get high accuracy."
   ]
  },
  {
   "cell_type": "code",
   "execution_count": 6,
   "metadata": {},
   "outputs": [],
   "source": [
    "def generator(source_path, folder_list, batch_size):\n",
    "    print( 'Source path = ', source_path, '; batch size =', batch_size)\n",
    "    # Choose even indexed images\n",
    "    img_idx = img_indices\n",
    "    while True:\n",
    "        t = np.random.permutation(folder_list)\n",
    "        num_batches = len(t) // batch_size\n",
    "        for batch in range(num_batches): # we iterate over the number of batches\n",
    "            batch_data = np.zeros((batch_size,len(img_idx),img_width,img_height,3)) # x is the number of images you use for each video, (y,z) is the final size of the input images and 3 is the number of channels RGB\n",
    "            batch_labels = np.zeros((batch_size,num_classes)) # batch_labels is the one hot representation of the output\n",
    "            for folder in range(batch_size): # iterate over the batch_size\n",
    "                imgs = os.listdir(source_path+'/'+ t[folder + (batch*batch_size)].split(';')[0]) # read all the images in the folder\n",
    "                for idx,item in enumerate(img_idx): #  Iterate over the frames/images of a folder to read them in\n",
    "                    image = imread(source_path+'/'+ t[folder + (batch*batch_size)].strip().split(';')[0]+'/'+imgs[item]).astype(np.float32)\n",
    "                    \n",
    "                    #crop the images and resize them. Note that the images are of 2 different shape \n",
    "                    #and the conv3D will throw error if the inputs in a batch have different shapes\n",
    "                    # specify x and y coordinates to be used for shifting (mid points)\n",
    "                    image = transform_img(image, img_width, img_height)\n",
    "\n",
    "                    batch_data[folder,idx,:,:,0] = image[:, :, 0]\n",
    "                    batch_data[folder,idx,:,:,1] = image[:, :, 1]\n",
    "                    batch_data[folder,idx,:,:,2] = image[:, :, 2]\n",
    "                    \n",
    "                batch_labels[folder, int(t[folder + (batch*batch_size)].strip().split(';')[2])] = 1\n",
    "            yield batch_data, batch_labels #you yield the batch_data and the batch_labels, remember what does yield do\n",
    "\n",
    "        \n",
    "        # write the code for the remaining data points which are left after full batches\n",
    "        last_batch_size = len(t) % batch_size\n",
    "        if last_batch_size > 1:\n",
    "            last_batch_data = np.zeros((last_batch_size,len(img_idx),img_width,img_height,3)) # x is the number of images you use for each video, (y,z) is the final size of the input images and 3 is the number of channels RGB\n",
    "            last_batch_labels = np.zeros((last_batch_size,num_classes)) # batch_labels is the one hot representation of the output\n",
    "            for folder in range(last_batch_size):\n",
    "                imgs = os.listdir(source_path+'/'+ t[folder + (num_batches * batch_size)].split(';')[0]) # read all the images in the folder\n",
    "                for idx,item in enumerate(img_idx): #  Iterate over the frames/images of a folder to read them in\n",
    "                    image = imread(source_path+'/'+ t[folder + (num_batches*batch_size)].strip().split(';')[0]+'/'+imgs[item]).astype(np.float32)\n",
    "\n",
    "                    #crop the images and resize them. Note that the images are of 2 different shape \n",
    "                    #and the conv3D will throw error if the inputs in a batch have different shapes\n",
    "                    # specify x and y coordinates to be used for shifting (mid points)\n",
    "                    image = transform_img(image, img_width, img_height)\n",
    "\n",
    "                    last_batch_data[folder,idx,:,:,0] = image[:, :, 0]\n",
    "                    last_batch_data[folder,idx,:,:,1] = image[:, :, 1]\n",
    "                    last_batch_data[folder,idx,:,:,2] = image[:, :, 2]\n",
    "\n",
    "                    last_batch_labels[folder, int(t[folder + (num_batches*batch_size)].strip().split(';')[2])] = 1\n",
    "            yield last_batch_data, last_batch_labels\n",
    "            "
   ]
  },
  {
   "cell_type": "markdown",
   "metadata": {},
   "source": [
    "Note here that a video is represented above in the generator as (number of images, height, width, number of channels). Take this into consideration while creating the model architecture."
   ]
  },
  {
   "cell_type": "code",
   "execution_count": 7,
   "metadata": {},
   "outputs": [
    {
     "name": "stdout",
     "output_type": "stream",
     "text": [
      "# training sequences = 663\n",
      "# validation sequences = 100\n"
     ]
    }
   ],
   "source": [
    "curr_dt_time = datetime.datetime.now()\n",
    "train_path = './Project_data/train'\n",
    "val_path = './Project_data/val'\n",
    "num_train_sequences = len(train_doc)\n",
    "print('# training sequences =', num_train_sequences)\n",
    "num_val_sequences = len(val_doc)\n",
    "print('# validation sequences =', num_val_sequences)"
   ]
  },
  {
   "cell_type": "markdown",
   "metadata": {},
   "source": [
    "## Model\n",
    "Here you make the model using different functionalities that Keras provides. Remember to use `Conv3D` and `MaxPooling3D` and not `Conv2D` and `Maxpooling2D` for a 3D convolution model. You would want to use `TimeDistributed` while building a Conv2D + RNN model. Also remember that the last layer is the softmax. Design the network in such a way that the model is able to give good accuracy on the least number of parameters so that it can fit in the memory of the webcam."
   ]
  },
  {
   "cell_type": "code",
   "execution_count": 8,
   "metadata": {},
   "outputs": [],
   "source": [
    "import keras\n",
    "from keras.models import Sequential, Model\n",
    "from keras.layers import Dense, GRU, Flatten, TimeDistributed, Flatten, BatchNormalization, Activation, Dropout\n",
    "from keras.layers.convolutional import Conv3D, MaxPooling3D\n",
    "from keras.callbacks import ModelCheckpoint, ReduceLROnPlateau\n",
    "from keras import optimizers\n",
    "from keras.regularizers import l2\n",
    "#write your model here"
   ]
  },
  {
   "cell_type": "markdown",
   "metadata": {},
   "source": [
    "### Conv3D "
   ]
  },
  {
   "cell_type": "code",
   "execution_count": 9,
   "metadata": {},
   "outputs": [],
   "source": [
    "K.set_image_data_format('channels_last')\n",
    "\n",
    "model = Sequential()\n",
    "model.add(Conv3D(32, (3, 3, 3), padding='same',\n",
    "                 input_shape=inputShape))\n",
    "model.add(Activation('relu'))\n",
    "model.add(BatchNormalization())\n",
    "model.add(MaxPooling3D(pool_size=(3, 3, 3)))\n",
    "model.add(Dropout(0.25))\n",
    "\n",
    "model.add(Conv3D(64, (3, 3, 3), padding='same'))\n",
    "model.add(Activation('relu'))\n",
    "model.add(BatchNormalization())\n",
    "model.add(MaxPooling3D(pool_size=(2, 2, 2)))\n",
    "model.add(Dropout(0.25))\n",
    "\n",
    "model.add(Conv3D(128, (3, 3, 3)))\n",
    "model.add(Activation('relu'))\n",
    "model.add(BatchNormalization())\n",
    "model.add(MaxPooling3D(pool_size=(2, 2, 2)))\n",
    "model.add(Dropout(0.25))\n",
    "\n",
    "model.add(Flatten())\n",
    "model.add(Dense(512,kernel_regularizer=l2(0.01)))\n",
    "model.add(Activation('relu'))\n",
    "model.add(Dropout(0.5))\n",
    "model.add(Dense(num_classes))\n",
    "model.add(Activation('softmax'))"
   ]
  },
  {
   "cell_type": "markdown",
   "metadata": {},
   "source": [
    "Now that you have written the model, the next step is to `compile` the model. When you print the `summary` of the model, you'll see the total number of parameters you have to train."
   ]
  },
  {
   "cell_type": "code",
   "execution_count": 10,
   "metadata": {
    "scrolled": true
   },
   "outputs": [
    {
     "name": "stdout",
     "output_type": "stream",
     "text": [
      "_________________________________________________________________\n",
      "Layer (type)                 Output Shape              Param #   \n",
      "=================================================================\n",
      "conv3d_1 (Conv3D)            (None, 30, 100, 100, 32)  2624      \n",
      "_________________________________________________________________\n",
      "activation_1 (Activation)    (None, 30, 100, 100, 32)  0         \n",
      "_________________________________________________________________\n",
      "batch_normalization_1 (Batch (None, 30, 100, 100, 32)  128       \n",
      "_________________________________________________________________\n",
      "max_pooling3d_1 (MaxPooling3 (None, 10, 33, 33, 32)    0         \n",
      "_________________________________________________________________\n",
      "dropout_1 (Dropout)          (None, 10, 33, 33, 32)    0         \n",
      "_________________________________________________________________\n",
      "conv3d_2 (Conv3D)            (None, 10, 33, 33, 64)    55360     \n",
      "_________________________________________________________________\n",
      "activation_2 (Activation)    (None, 10, 33, 33, 64)    0         \n",
      "_________________________________________________________________\n",
      "batch_normalization_2 (Batch (None, 10, 33, 33, 64)    256       \n",
      "_________________________________________________________________\n",
      "max_pooling3d_2 (MaxPooling3 (None, 5, 16, 16, 64)     0         \n",
      "_________________________________________________________________\n",
      "dropout_2 (Dropout)          (None, 5, 16, 16, 64)     0         \n",
      "_________________________________________________________________\n",
      "conv3d_3 (Conv3D)            (None, 3, 14, 14, 128)    221312    \n",
      "_________________________________________________________________\n",
      "activation_3 (Activation)    (None, 3, 14, 14, 128)    0         \n",
      "_________________________________________________________________\n",
      "batch_normalization_3 (Batch (None, 3, 14, 14, 128)    512       \n",
      "_________________________________________________________________\n",
      "max_pooling3d_3 (MaxPooling3 (None, 1, 7, 7, 128)      0         \n",
      "_________________________________________________________________\n",
      "dropout_3 (Dropout)          (None, 1, 7, 7, 128)      0         \n",
      "_________________________________________________________________\n",
      "flatten_1 (Flatten)          (None, 6272)              0         \n",
      "_________________________________________________________________\n",
      "dense_1 (Dense)              (None, 512)               3211776   \n",
      "_________________________________________________________________\n",
      "activation_4 (Activation)    (None, 512)               0         \n",
      "_________________________________________________________________\n",
      "dropout_4 (Dropout)          (None, 512)               0         \n",
      "_________________________________________________________________\n",
      "dense_2 (Dense)              (None, 5)                 2565      \n",
      "_________________________________________________________________\n",
      "activation_5 (Activation)    (None, 5)                 0         \n",
      "=================================================================\n",
      "Total params: 3,494,533\n",
      "Trainable params: 3,494,085\n",
      "Non-trainable params: 448\n",
      "_________________________________________________________________\n",
      "None\n"
     ]
    }
   ],
   "source": [
    "optimiser = \"sgd\"\n",
    "model.compile(optimizer=optimiser, loss='categorical_crossentropy', metrics=['categorical_accuracy'])\n",
    "print (model.summary())"
   ]
  },
  {
   "cell_type": "markdown",
   "metadata": {},
   "source": [
    "Let us create the `train_generator` and the `val_generator` which will be used in `.fit_generator`."
   ]
  },
  {
   "cell_type": "code",
   "execution_count": 11,
   "metadata": {},
   "outputs": [],
   "source": [
    "train_generator = generator(train_path, train_doc, batch_size)\n",
    "val_generator = generator(val_path, val_doc, batch_size)"
   ]
  },
  {
   "cell_type": "code",
   "execution_count": 12,
   "metadata": {},
   "outputs": [],
   "source": [
    "model_name = 'model_init' + '_' + str(curr_dt_time).replace(' ','').replace(':','_') + '/'\n",
    "    \n",
    "if not os.path.exists(model_name):\n",
    "    os.mkdir(model_name)\n",
    "        \n",
    "filepath = model_name + 'model-{epoch:05d}-{loss:.5f}-{categorical_accuracy:.5f}-{val_loss:.5f}-{val_categorical_accuracy:.5f}.h5'\n",
    "\n",
    "checkpoint = ModelCheckpoint(filepath, monitor='val_loss', verbose=1, save_best_only=False, save_weights_only=False, mode='auto', period=1)\n",
    "\n",
    "LR = ReduceLROnPlateau(monitor='val_loss', factor=0.2,\n",
    "                              patience=5, min_lr=0.001)\n",
    "callbacks_list = [checkpoint, LR]"
   ]
  },
  {
   "cell_type": "markdown",
   "metadata": {},
   "source": [
    "The `steps_per_epoch` and `validation_steps` are used by `fit_generator` to decide the number of next() calls it need to make."
   ]
  },
  {
   "cell_type": "code",
   "execution_count": 13,
   "metadata": {},
   "outputs": [],
   "source": [
    "if (num_train_sequences%batch_size) == 0:\n",
    "    steps_per_epoch = int(num_train_sequences/batch_size)\n",
    "else:\n",
    "    steps_per_epoch = (num_train_sequences//batch_size) + 1\n",
    "\n",
    "if (num_val_sequences%batch_size) == 0:\n",
    "    validation_steps = int(num_val_sequences/batch_size)\n",
    "else:\n",
    "    validation_steps = (num_val_sequences//batch_size) + 1"
   ]
  },
  {
   "cell_type": "markdown",
   "metadata": {},
   "source": [
    "Let us now fit the model. This will start training the model and with the help of the checkpoints, you'll be able to save the model at the end of each epoch."
   ]
  },
  {
   "cell_type": "code",
   "execution_count": 14,
   "metadata": {
    "scrolled": false
   },
   "outputs": [
    {
     "name": "stdout",
     "output_type": "stream",
     "text": [
      "Source path =  ./Project_data/val ; batch size = 20\n",
      "Source path =  ./Project_data/train ; batch size = 20\n",
      "Epoch 1/20\n",
      "34/34 [==============================] - 254s 7s/step - loss: 12.9030 - categorical_accuracy: 0.3679 - val_loss: 11.0848 - val_categorical_accuracy: 0.3900\n",
      "\n",
      "Epoch 00001: saving model to model_init_2020-03-2317_15_15.245836/model-00001-12.94957-0.36048-11.08482-0.39000.h5\n",
      "Epoch 2/20\n",
      "34/34 [==============================] - 121s 4s/step - loss: 10.7440 - categorical_accuracy: 0.4893 - val_loss: 10.3603 - val_categorical_accuracy: 0.6000\n",
      "\n",
      "Epoch 00002: saving model to model_init_2020-03-2317_15_15.245836/model-00002-10.74062-0.49321-10.36026-0.60000.h5\n",
      "Epoch 3/20\n",
      "34/34 [==============================] - 106s 3s/step - loss: 10.2864 - categorical_accuracy: 0.5909 - val_loss: 10.3629 - val_categorical_accuracy: 0.5300\n",
      "\n",
      "Epoch 00003: saving model to model_init_2020-03-2317_15_15.245836/model-00003-10.27387-0.59729-10.36291-0.53000.h5\n",
      "Epoch 4/20\n",
      "34/34 [==============================] - 119s 4s/step - loss: 10.0640 - categorical_accuracy: 0.6218 - val_loss: 10.1212 - val_categorical_accuracy: 0.5500\n",
      "\n",
      "Epoch 00004: saving model to model_init_2020-03-2317_15_15.245836/model-00004-10.07825-0.61237-10.12123-0.55000.h5\n",
      "Epoch 5/20\n",
      "34/34 [==============================] - 119s 3s/step - loss: 9.7473 - categorical_accuracy: 0.6799 - val_loss: 11.3747 - val_categorical_accuracy: 0.3500\n",
      "\n",
      "Epoch 00005: saving model to model_init_2020-03-2317_15_15.245836/model-00005-9.73872-0.68024-11.37468-0.35000.h5\n",
      "Epoch 6/20\n",
      "34/34 [==============================] - 105s 3s/step - loss: 9.5457 - categorical_accuracy: 0.7417 - val_loss: 9.9303 - val_categorical_accuracy: 0.6100\n",
      "\n",
      "Epoch 00006: saving model to model_init_2020-03-2317_15_15.245836/model-00006-9.55420-0.74359-9.93026-0.61000.h5\n",
      "Epoch 7/20\n",
      "34/34 [==============================] - 104s 3s/step - loss: 9.3246 - categorical_accuracy: 0.7726 - val_loss: 10.5388 - val_categorical_accuracy: 0.4500\n",
      "\n",
      "Epoch 00007: saving model to model_init_2020-03-2317_15_15.245836/model-00007-9.32002-0.77526-10.53878-0.45000.h5\n",
      "Epoch 8/20\n",
      "34/34 [==============================] - 114s 3s/step - loss: 9.1821 - categorical_accuracy: 0.7631 - val_loss: 9.7231 - val_categorical_accuracy: 0.5700\n",
      "\n",
      "Epoch 00008: saving model to model_init_2020-03-2317_15_15.245836/model-00008-9.18347-0.75716-9.72311-0.57000.h5\n",
      "Epoch 9/20\n",
      "34/34 [==============================] - 118s 3s/step - loss: 8.9912 - categorical_accuracy: 0.7984 - val_loss: 9.8485 - val_categorical_accuracy: 0.6000\n",
      "\n",
      "Epoch 00009: saving model to model_init_2020-03-2317_15_15.245836/model-00009-9.00131-0.79336-9.84849-0.60000.h5\n",
      "Epoch 10/20\n",
      "34/34 [==============================] - 107s 3s/step - loss: 8.8436 - categorical_accuracy: 0.8153 - val_loss: 9.6797 - val_categorical_accuracy: 0.5900\n",
      "\n",
      "Epoch 00010: saving model to model_init_2020-03-2317_15_15.245836/model-00010-8.83487-0.81900-9.67970-0.59000.h5\n",
      "Epoch 11/20\n",
      "34/34 [==============================] - 114s 3s/step - loss: 8.7055 - categorical_accuracy: 0.8256 - val_loss: 9.6280 - val_categorical_accuracy: 0.5500\n",
      "\n",
      "Epoch 00011: saving model to model_init_2020-03-2317_15_15.245836/model-00011-8.70663-0.82956-9.62803-0.55000.h5\n",
      "Epoch 12/20\n",
      "34/34 [==============================] - 111s 3s/step - loss: 8.5500 - categorical_accuracy: 0.8469 - val_loss: 9.4893 - val_categorical_accuracy: 0.5800\n",
      "\n",
      "Epoch 00012: saving model to model_init_2020-03-2317_15_15.245836/model-00012-8.55499-0.84314-9.48927-0.58000.h5\n",
      "Epoch 13/20\n",
      "34/34 [==============================] - 110s 3s/step - loss: 8.4251 - categorical_accuracy: 0.8720 - val_loss: 9.2120 - val_categorical_accuracy: 0.6400\n",
      "\n",
      "Epoch 00013: saving model to model_init_2020-03-2317_15_15.245836/model-00013-8.43298-0.86878-9.21203-0.64000.h5\n",
      "Epoch 14/20\n",
      "34/34 [==============================] - 116s 3s/step - loss: 8.2759 - categorical_accuracy: 0.8837 - val_loss: 9.5208 - val_categorical_accuracy: 0.5800\n",
      "\n",
      "Epoch 00014: saving model to model_init_2020-03-2317_15_15.245836/model-00014-8.27170-0.88084-9.52080-0.58000.h5\n",
      "Epoch 15/20\n",
      "34/34 [==============================] - 117s 3s/step - loss: 8.1313 - categorical_accuracy: 0.8955 - val_loss: 9.4125 - val_categorical_accuracy: 0.5900\n",
      "\n",
      "Epoch 00015: saving model to model_init_2020-03-2317_15_15.245836/model-00015-8.13722-0.89291-9.41247-0.59000.h5\n",
      "Epoch 16/20\n",
      "34/34 [==============================] - 117s 3s/step - loss: 8.0344 - categorical_accuracy: 0.8977 - val_loss: 8.7983 - val_categorical_accuracy: 0.6800\n",
      "\n",
      "Epoch 00016: saving model to model_init_2020-03-2317_15_15.245836/model-00016-8.02261-0.90347-8.79831-0.68000.h5\n",
      "Epoch 17/20\n",
      "34/34 [==============================] - 105s 3s/step - loss: 7.9278 - categorical_accuracy: 0.8977 - val_loss: 9.4512 - val_categorical_accuracy: 0.5400\n",
      "\n",
      "Epoch 00017: saving model to model_init_2020-03-2317_15_15.245836/model-00017-7.92131-0.90347-9.45124-0.54000.h5\n",
      "Epoch 18/20\n",
      "34/34 [==============================] - 114s 3s/step - loss: 7.8471 - categorical_accuracy: 0.8985 - val_loss: 8.9734 - val_categorical_accuracy: 0.6100\n",
      "\n",
      "Epoch 00018: saving model to model_init_2020-03-2317_15_15.245836/model-00018-7.85242-0.89593-8.97338-0.61000.h5\n",
      "Epoch 19/20\n",
      "34/34 [==============================] - 118s 3s/step - loss: 7.7095 - categorical_accuracy: 0.9029 - val_loss: 8.2818 - val_categorical_accuracy: 0.7200\n",
      "\n",
      "Epoch 00019: saving model to model_init_2020-03-2317_15_15.245836/model-00019-7.71714-0.90045-8.28184-0.72000.h5\n",
      "Epoch 20/20\n",
      "34/34 [==============================] - 118s 3s/step - loss: 7.5421 - categorical_accuracy: 0.9338 - val_loss: 8.7849 - val_categorical_accuracy: 0.5700\n",
      "\n",
      "Epoch 00020: saving model to model_init_2020-03-2317_15_15.245836/model-00020-7.54742-0.93213-8.78489-0.57000.h5\n"
     ]
    },
    {
     "data": {
      "text/plain": [
       "<keras.callbacks.History at 0x7fdcf12576d8>"
      ]
     },
     "execution_count": 14,
     "metadata": {},
     "output_type": "execute_result"
    }
   ],
   "source": [
    "model.fit_generator(train_generator, steps_per_epoch=steps_per_epoch, epochs=num_epochs, verbose=1, \n",
    "                    callbacks=callbacks_list, validation_data=val_generator, \n",
    "                    validation_steps=validation_steps, class_weight=None, workers=1, initial_epoch=0)"
   ]
  }
 ],
 "metadata": {
  "kernelspec": {
   "display_name": "Python 3",
   "language": "python",
   "name": "python3"
  },
  "language_info": {
   "codemirror_mode": {
    "name": "ipython",
    "version": 3
   },
   "file_extension": ".py",
   "mimetype": "text/x-python",
   "name": "python",
   "nbconvert_exporter": "python",
   "pygments_lexer": "ipython3",
   "version": "3.6.8"
  }
 },
 "nbformat": 4,
 "nbformat_minor": 2
}
